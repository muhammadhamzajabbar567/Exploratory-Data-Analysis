{
 "cells": [
  {
   "cell_type": "code",
   "execution_count": 1,
   "id": "ab3e2ae2",
   "metadata": {
    "_cell_guid": "b1076dfc-b9ad-4769-8c92-a6c4dae69d19",
    "_uuid": "8f2839f25d086af736a60e9eeb907d3b93b6e0e5",
    "execution": {
     "iopub.execute_input": "2023-08-20T20:30:36.876512Z",
     "iopub.status.busy": "2023-08-20T20:30:36.875941Z",
     "iopub.status.idle": "2023-08-20T20:30:38.839337Z",
     "shell.execute_reply": "2023-08-20T20:30:38.837498Z"
    },
    "papermill": {
     "duration": 1.980013,
     "end_time": "2023-08-20T20:30:38.841522",
     "exception": true,
     "start_time": "2023-08-20T20:30:36.861509",
     "status": "failed"
    },
    "tags": []
   },
   "outputs": [
    {
     "name": "stderr",
     "output_type": "stream",
     "text": [
      "/opt/conda/lib/python3.10/site-packages/scipy/__init__.py:146: UserWarning: A NumPy version >=1.16.5 and <1.23.0 is required for this version of SciPy (detected version 1.23.5\n",
      "  warnings.warn(f\"A NumPy version >={np_minversion} and <{np_maxversion}\"\n"
     ]
    },
    {
     "ename": "OptionError",
     "evalue": "Pattern matched multiple keys",
     "output_type": "error",
     "traceback": [
      "\u001b[0;31m---------------------------------------------------------------------------\u001b[0m",
      "\u001b[0;31mOptionError\u001b[0m                               Traceback (most recent call last)",
      "Cell \u001b[0;32mIn[1], line 18\u001b[0m\n\u001b[1;32m     16\u001b[0m \u001b[38;5;28;01mimport\u001b[39;00m \u001b[38;5;21;01mseaborn\u001b[39;00m \u001b[38;5;28;01mas\u001b[39;00m \u001b[38;5;21;01msns\u001b[39;00m\n\u001b[1;32m     17\u001b[0m plt\u001b[38;5;241m.\u001b[39mstyle\u001b[38;5;241m.\u001b[39muse(\u001b[38;5;124m'\u001b[39m\u001b[38;5;124mggplot\u001b[39m\u001b[38;5;124m'\u001b[39m)\n\u001b[0;32m---> 18\u001b[0m \u001b[43mpd\u001b[49m\u001b[38;5;241;43m.\u001b[39;49m\u001b[43mset_option\u001b[49m\u001b[43m(\u001b[49m\u001b[38;5;124;43m'\u001b[39;49m\u001b[38;5;124;43mmax_columns\u001b[39;49m\u001b[38;5;124;43m'\u001b[39;49m\u001b[43m,\u001b[49m\u001b[38;5;241;43m200\u001b[39;49m\u001b[43m)\u001b[49m \n",
      "File \u001b[0;32m/opt/conda/lib/python3.10/site-packages/pandas/_config/config.py:263\u001b[0m, in \u001b[0;36mCallableDynamicDoc.__call__\u001b[0;34m(self, *args, **kwds)\u001b[0m\n\u001b[1;32m    262\u001b[0m \u001b[38;5;28;01mdef\u001b[39;00m \u001b[38;5;21m__call__\u001b[39m(\u001b[38;5;28mself\u001b[39m, \u001b[38;5;241m*\u001b[39margs, \u001b[38;5;241m*\u001b[39m\u001b[38;5;241m*\u001b[39mkwds) \u001b[38;5;241m-\u001b[39m\u001b[38;5;241m>\u001b[39m T:\n\u001b[0;32m--> 263\u001b[0m     \u001b[38;5;28;01mreturn\u001b[39;00m \u001b[38;5;28;43mself\u001b[39;49m\u001b[38;5;241;43m.\u001b[39;49m\u001b[38;5;18;43m__func__\u001b[39;49m\u001b[43m(\u001b[49m\u001b[38;5;241;43m*\u001b[39;49m\u001b[43margs\u001b[49m\u001b[43m,\u001b[49m\u001b[43m \u001b[49m\u001b[38;5;241;43m*\u001b[39;49m\u001b[38;5;241;43m*\u001b[39;49m\u001b[43mkwds\u001b[49m\u001b[43m)\u001b[49m\n",
      "File \u001b[0;32m/opt/conda/lib/python3.10/site-packages/pandas/_config/config.py:156\u001b[0m, in \u001b[0;36m_set_option\u001b[0;34m(*args, **kwargs)\u001b[0m\n\u001b[1;32m    153\u001b[0m     \u001b[38;5;28;01mraise\u001b[39;00m \u001b[38;5;167;01mTypeError\u001b[39;00m(\u001b[38;5;124mf\u001b[39m\u001b[38;5;124m'\u001b[39m\u001b[38;5;124m_set_option() got an unexpected keyword argument \u001b[39m\u001b[38;5;124m\"\u001b[39m\u001b[38;5;132;01m{\u001b[39;00mkwarg\u001b[38;5;132;01m}\u001b[39;00m\u001b[38;5;124m\"\u001b[39m\u001b[38;5;124m'\u001b[39m)\n\u001b[1;32m    155\u001b[0m \u001b[38;5;28;01mfor\u001b[39;00m k, v \u001b[38;5;129;01min\u001b[39;00m \u001b[38;5;28mzip\u001b[39m(args[::\u001b[38;5;241m2\u001b[39m], args[\u001b[38;5;241m1\u001b[39m::\u001b[38;5;241m2\u001b[39m]):\n\u001b[0;32m--> 156\u001b[0m     key \u001b[38;5;241m=\u001b[39m \u001b[43m_get_single_key\u001b[49m\u001b[43m(\u001b[49m\u001b[43mk\u001b[49m\u001b[43m,\u001b[49m\u001b[43m \u001b[49m\u001b[43msilent\u001b[49m\u001b[43m)\u001b[49m\n\u001b[1;32m    158\u001b[0m     o \u001b[38;5;241m=\u001b[39m _get_registered_option(key)\n\u001b[1;32m    159\u001b[0m     \u001b[38;5;28;01mif\u001b[39;00m o \u001b[38;5;129;01mand\u001b[39;00m o\u001b[38;5;241m.\u001b[39mvalidator:\n",
      "File \u001b[0;32m/opt/conda/lib/python3.10/site-packages/pandas/_config/config.py:123\u001b[0m, in \u001b[0;36m_get_single_key\u001b[0;34m(pat, silent)\u001b[0m\n\u001b[1;32m    121\u001b[0m     \u001b[38;5;28;01mraise\u001b[39;00m OptionError(\u001b[38;5;124mf\u001b[39m\u001b[38;5;124m\"\u001b[39m\u001b[38;5;124mNo such keys(s): \u001b[39m\u001b[38;5;132;01m{\u001b[39;00m\u001b[38;5;28mrepr\u001b[39m(pat)\u001b[38;5;132;01m}\u001b[39;00m\u001b[38;5;124m\"\u001b[39m)\n\u001b[1;32m    122\u001b[0m \u001b[38;5;28;01mif\u001b[39;00m \u001b[38;5;28mlen\u001b[39m(keys) \u001b[38;5;241m>\u001b[39m \u001b[38;5;241m1\u001b[39m:\n\u001b[0;32m--> 123\u001b[0m     \u001b[38;5;28;01mraise\u001b[39;00m OptionError(\u001b[38;5;124m\"\u001b[39m\u001b[38;5;124mPattern matched multiple keys\u001b[39m\u001b[38;5;124m\"\u001b[39m)\n\u001b[1;32m    124\u001b[0m key \u001b[38;5;241m=\u001b[39m keys[\u001b[38;5;241m0\u001b[39m]\n\u001b[1;32m    126\u001b[0m \u001b[38;5;28;01mif\u001b[39;00m \u001b[38;5;129;01mnot\u001b[39;00m silent:\n",
      "\u001b[0;31mOptionError\u001b[0m: Pattern matched multiple keys"
     ]
    }
   ],
   "source": [
    "# This Python 3 environment comes with many helpful analytics libraries installed\n",
    "# It is defined by the kaggle/python Docker image: https://github.com/kaggle/docker-python\n",
    "# For example, here's several helpful packages to load\n",
    "\n",
    "import numpy as np # linear algebra\n",
    "import pandas as pd # data processing, CSV file I/O (e.g. pd.read_csv)\n",
    "\n",
    "# Input data files are available in the read-only \"../input/\" directory\n",
    "# For example, running this (by clicking run or pressing Shift+Enter) will list all files under the input directory\n",
    "\n",
    "\n",
    "\n",
    "# You can write up to 20GB to the current directory (/kaggle/working/) that gets preserved as output when you create a version using \"Save & Run All\" \n",
    "# You can also write temporary files to /kaggle/temp/, but they won't be saved outside of the current session\n",
    "import matplotlib.pylab as plt\n",
    "import seaborn as sns\n",
    "plt.style.use('ggplot')\n",
    "pd.set_option('max_columns',200) \n"
   ]
  },
  {
   "cell_type": "code",
   "execution_count": null,
   "id": "4f61bf21",
   "metadata": {
    "execution": {
     "iopub.execute_input": "2023-08-20T17:01:14.929468Z",
     "iopub.status.busy": "2023-08-20T17:01:14.928750Z",
     "iopub.status.idle": "2023-08-20T17:01:15.012455Z",
     "shell.execute_reply": "2023-08-20T17:01:15.011119Z",
     "shell.execute_reply.started": "2023-08-20T17:01:14.929430Z"
    },
    "papermill": {
     "duration": null,
     "end_time": null,
     "exception": null,
     "start_time": null,
     "status": "pending"
    },
    "tags": []
   },
   "outputs": [],
   "source": [
    "df = pd.read_csv(\"../input/rollercoaster-database/coaster_db.csv\")\n"
   ]
  },
  {
   "cell_type": "code",
   "execution_count": null,
   "id": "1d190e66",
   "metadata": {
    "execution": {
     "iopub.execute_input": "2023-08-20T17:01:15.015195Z",
     "iopub.status.busy": "2023-08-20T17:01:15.014730Z",
     "iopub.status.idle": "2023-08-20T17:01:15.024730Z",
     "shell.execute_reply": "2023-08-20T17:01:15.023534Z",
     "shell.execute_reply.started": "2023-08-20T17:01:15.015153Z"
    },
    "papermill": {
     "duration": null,
     "end_time": null,
     "exception": null,
     "start_time": null,
     "status": "pending"
    },
    "tags": []
   },
   "outputs": [],
   "source": [
    "df.shape"
   ]
  },
  {
   "cell_type": "code",
   "execution_count": null,
   "id": "0e42d822",
   "metadata": {
    "execution": {
     "iopub.execute_input": "2023-08-20T17:01:15.026794Z",
     "iopub.status.busy": "2023-08-20T17:01:15.026322Z",
     "iopub.status.idle": "2023-08-20T17:01:15.070668Z",
     "shell.execute_reply": "2023-08-20T17:01:15.069514Z",
     "shell.execute_reply.started": "2023-08-20T17:01:15.026732Z"
    },
    "papermill": {
     "duration": null,
     "end_time": null,
     "exception": null,
     "start_time": null,
     "status": "pending"
    },
    "tags": []
   },
   "outputs": [],
   "source": [
    "df.head(5)"
   ]
  },
  {
   "cell_type": "code",
   "execution_count": null,
   "id": "fed15c04",
   "metadata": {
    "execution": {
     "iopub.execute_input": "2023-08-20T17:01:15.073650Z",
     "iopub.status.busy": "2023-08-20T17:01:15.073316Z",
     "iopub.status.idle": "2023-08-20T17:01:15.084275Z",
     "shell.execute_reply": "2023-08-20T17:01:15.082908Z",
     "shell.execute_reply.started": "2023-08-20T17:01:15.073621Z"
    },
    "papermill": {
     "duration": null,
     "end_time": null,
     "exception": null,
     "start_time": null,
     "status": "pending"
    },
    "tags": []
   },
   "outputs": [],
   "source": [
    "df.columns"
   ]
  },
  {
   "cell_type": "code",
   "execution_count": null,
   "id": "f8fff189",
   "metadata": {
    "execution": {
     "iopub.execute_input": "2023-08-20T17:01:15.086238Z",
     "iopub.status.busy": "2023-08-20T17:01:15.085918Z",
     "iopub.status.idle": "2023-08-20T17:01:15.095957Z",
     "shell.execute_reply": "2023-08-20T17:01:15.094820Z",
     "shell.execute_reply.started": "2023-08-20T17:01:15.086207Z"
    },
    "papermill": {
     "duration": null,
     "end_time": null,
     "exception": null,
     "start_time": null,
     "status": "pending"
    },
    "tags": []
   },
   "outputs": [],
   "source": [
    "df.dtypes"
   ]
  },
  {
   "cell_type": "code",
   "execution_count": null,
   "id": "74ae6f92",
   "metadata": {
    "execution": {
     "iopub.execute_input": "2023-08-20T17:01:15.097451Z",
     "iopub.status.busy": "2023-08-20T17:01:15.097038Z",
     "iopub.status.idle": "2023-08-20T17:01:15.150390Z",
     "shell.execute_reply": "2023-08-20T17:01:15.149180Z",
     "shell.execute_reply.started": "2023-08-20T17:01:15.097411Z"
    },
    "papermill": {
     "duration": null,
     "end_time": null,
     "exception": null,
     "start_time": null,
     "status": "pending"
    },
    "tags": []
   },
   "outputs": [],
   "source": [
    "df.describe()"
   ]
  },
  {
   "cell_type": "code",
   "execution_count": null,
   "id": "df6ace62",
   "metadata": {
    "execution": {
     "iopub.execute_input": "2023-08-20T17:01:15.152316Z",
     "iopub.status.busy": "2023-08-20T17:01:15.151930Z",
     "iopub.status.idle": "2023-08-20T17:01:15.195300Z",
     "shell.execute_reply": "2023-08-20T17:01:15.194115Z",
     "shell.execute_reply.started": "2023-08-20T17:01:15.152283Z"
    },
    "papermill": {
     "duration": null,
     "end_time": null,
     "exception": null,
     "start_time": null,
     "status": "pending"
    },
    "tags": []
   },
   "outputs": [],
   "source": [
    "df.drop(['coaster_name', 'Length'],axis=1)"
   ]
  },
  {
   "cell_type": "code",
   "execution_count": null,
   "id": "2cae22cc",
   "metadata": {
    "execution": {
     "iopub.execute_input": "2023-08-20T17:01:15.197301Z",
     "iopub.status.busy": "2023-08-20T17:01:15.196615Z",
     "iopub.status.idle": "2023-08-20T17:01:15.204187Z",
     "shell.execute_reply": "2023-08-20T17:01:15.202986Z",
     "shell.execute_reply.started": "2023-08-20T17:01:15.197265Z"
    },
    "papermill": {
     "duration": null,
     "end_time": null,
     "exception": null,
     "start_time": null,
     "status": "pending"
    },
    "tags": []
   },
   "outputs": [],
   "source": [
    "df = df[['coaster_name', 'Length', 'Speed', 'Location', 'Status', 'Opening date',\n",
    "       'Type', 'Manufacturer', 'Height restriction', 'Model']].copy()"
   ]
  },
  {
   "cell_type": "code",
   "execution_count": null,
   "id": "b1fbb774",
   "metadata": {
    "execution": {
     "iopub.execute_input": "2023-08-20T17:01:15.206196Z",
     "iopub.status.busy": "2023-08-20T17:01:15.205781Z",
     "iopub.status.idle": "2023-08-20T17:01:15.217968Z",
     "shell.execute_reply": "2023-08-20T17:01:15.216934Z",
     "shell.execute_reply.started": "2023-08-20T17:01:15.206164Z"
    },
    "papermill": {
     "duration": null,
     "end_time": null,
     "exception": null,
     "start_time": null,
     "status": "pending"
    },
    "tags": []
   },
   "outputs": [],
   "source": [
    "df = df[['coaster_name', 'Length', 'Speed', 'Location', 'Status', 'Opening date',\n",
    "       'Type', 'Manufacturer', 'Height restriction', 'Model']].copy()"
   ]
  },
  {
   "cell_type": "code",
   "execution_count": null,
   "id": "d0999ce6",
   "metadata": {
    "execution": {
     "iopub.execute_input": "2023-08-20T17:01:15.221296Z",
     "iopub.status.busy": "2023-08-20T17:01:15.220848Z",
     "iopub.status.idle": "2023-08-20T17:01:15.232978Z",
     "shell.execute_reply": "2023-08-20T17:01:15.231675Z",
     "shell.execute_reply.started": "2023-08-20T17:01:15.221256Z"
    },
    "papermill": {
     "duration": null,
     "end_time": null,
     "exception": null,
     "start_time": null,
     "status": "pending"
    },
    "tags": []
   },
   "outputs": [],
   "source": [
    "df.shape"
   ]
  },
  {
   "cell_type": "code",
   "execution_count": null,
   "id": "a73dee57",
   "metadata": {
    "execution": {
     "iopub.execute_input": "2023-08-20T17:01:15.234773Z",
     "iopub.status.busy": "2023-08-20T17:01:15.234403Z",
     "iopub.status.idle": "2023-08-20T17:01:15.246262Z",
     "shell.execute_reply": "2023-08-20T17:01:15.245146Z",
     "shell.execute_reply.started": "2023-08-20T17:01:15.234708Z"
    },
    "papermill": {
     "duration": null,
     "end_time": null,
     "exception": null,
     "start_time": null,
     "status": "pending"
    },
    "tags": []
   },
   "outputs": [],
   "source": [
    "df.columns"
   ]
  },
  {
   "cell_type": "code",
   "execution_count": null,
   "id": "7b0f6882",
   "metadata": {
    "execution": {
     "iopub.execute_input": "2023-08-20T17:01:15.248748Z",
     "iopub.status.busy": "2023-08-20T17:01:15.247606Z",
     "iopub.status.idle": "2023-08-20T17:01:15.262046Z",
     "shell.execute_reply": "2023-08-20T17:01:15.260815Z",
     "shell.execute_reply.started": "2023-08-20T17:01:15.248700Z"
    },
    "papermill": {
     "duration": null,
     "end_time": null,
     "exception": null,
     "start_time": null,
     "status": "pending"
    },
    "tags": []
   },
   "outputs": [],
   "source": [
    "df.dtypes"
   ]
  },
  {
   "cell_type": "code",
   "execution_count": null,
   "id": "3550f1f7",
   "metadata": {
    "execution": {
     "iopub.execute_input": "2023-08-20T17:03:33.876065Z",
     "iopub.status.busy": "2023-08-20T17:03:33.875663Z",
     "iopub.status.idle": "2023-08-20T17:03:33.881666Z",
     "shell.execute_reply": "2023-08-20T17:03:33.880492Z",
     "shell.execute_reply.started": "2023-08-20T17:03:33.876034Z"
    },
    "papermill": {
     "duration": null,
     "end_time": null,
     "exception": null,
     "start_time": null,
     "status": "pending"
    },
    "tags": []
   },
   "outputs": [],
   "source": [
    "df = df.rename(columns = {\n",
    "    'coaster_name':'Coaster Name',  \n",
    "    'Opening date':'Opening Date',\n",
    "    'Height restriction': \"High Restriction\", \n",
    "})\n"
   ]
  },
  {
   "cell_type": "code",
   "execution_count": null,
   "id": "267016e7",
   "metadata": {
    "execution": {
     "iopub.execute_input": "2023-08-20T17:03:44.576368Z",
     "iopub.status.busy": "2023-08-20T17:03:44.575962Z",
     "iopub.status.idle": "2023-08-20T17:03:44.594416Z",
     "shell.execute_reply": "2023-08-20T17:03:44.593305Z",
     "shell.execute_reply.started": "2023-08-20T17:03:44.576335Z"
    },
    "papermill": {
     "duration": null,
     "end_time": null,
     "exception": null,
     "start_time": null,
     "status": "pending"
    },
    "tags": []
   },
   "outputs": [],
   "source": [
    "df.head()"
   ]
  },
  {
   "cell_type": "code",
   "execution_count": null,
   "id": "3a88abcd",
   "metadata": {
    "execution": {
     "iopub.execute_input": "2023-08-20T17:13:34.204698Z",
     "iopub.status.busy": "2023-08-20T17:13:34.204311Z",
     "iopub.status.idle": "2023-08-20T17:13:34.218006Z",
     "shell.execute_reply": "2023-08-20T17:13:34.216839Z",
     "shell.execute_reply.started": "2023-08-20T17:13:34.204667Z"
    },
    "papermill": {
     "duration": null,
     "end_time": null,
     "exception": null,
     "start_time": null,
     "status": "pending"
    },
    "tags": []
   },
   "outputs": [],
   "source": [
    "df.isna().sum()"
   ]
  },
  {
   "cell_type": "code",
   "execution_count": null,
   "id": "9bacd169",
   "metadata": {
    "execution": {
     "iopub.execute_input": "2023-08-20T17:46:56.968805Z",
     "iopub.status.busy": "2023-08-20T17:46:56.968395Z",
     "iopub.status.idle": "2023-08-20T17:46:56.985676Z",
     "shell.execute_reply": "2023-08-20T17:46:56.984568Z",
     "shell.execute_reply.started": "2023-08-20T17:46:56.968735Z"
    },
    "papermill": {
     "duration": null,
     "end_time": null,
     "exception": null,
     "start_time": null,
     "status": "pending"
    },
    "tags": []
   },
   "outputs": [],
   "source": [
    "df.duplicated()"
   ]
  },
  {
   "cell_type": "code",
   "execution_count": null,
   "id": "9c6b76c0",
   "metadata": {
    "execution": {
     "iopub.execute_input": "2023-08-20T17:47:22.388066Z",
     "iopub.status.busy": "2023-08-20T17:47:22.387680Z",
     "iopub.status.idle": "2023-08-20T17:47:22.421681Z",
     "shell.execute_reply": "2023-08-20T17:47:22.420538Z",
     "shell.execute_reply.started": "2023-08-20T17:47:22.388037Z"
    },
    "papermill": {
     "duration": null,
     "end_time": null,
     "exception": null,
     "start_time": null,
     "status": "pending"
    },
    "tags": []
   },
   "outputs": [],
   "source": [
    "df.loc[df.duplicated()]"
   ]
  },
  {
   "cell_type": "code",
   "execution_count": null,
   "id": "b0b6bd09",
   "metadata": {
    "execution": {
     "iopub.execute_input": "2023-08-20T17:52:21.275369Z",
     "iopub.status.busy": "2023-08-20T17:52:21.274978Z",
     "iopub.status.idle": "2023-08-20T17:52:21.293390Z",
     "shell.execute_reply": "2023-08-20T17:52:21.292192Z",
     "shell.execute_reply.started": "2023-08-20T17:52:21.275339Z"
    },
    "papermill": {
     "duration": null,
     "end_time": null,
     "exception": null,
     "start_time": null,
     "status": "pending"
    },
    "tags": []
   },
   "outputs": [],
   "source": [
    "df.loc[df.duplicated(subset=['Coaster Name'])].head(5)"
   ]
  },
  {
   "cell_type": "code",
   "execution_count": null,
   "id": "835c7090",
   "metadata": {
    "execution": {
     "iopub.execute_input": "2023-08-20T17:55:30.064047Z",
     "iopub.status.busy": "2023-08-20T17:55:30.063611Z",
     "iopub.status.idle": "2023-08-20T17:55:30.093330Z",
     "shell.execute_reply": "2023-08-20T17:55:30.092002Z",
     "shell.execute_reply.started": "2023-08-20T17:55:30.064013Z"
    },
    "papermill": {
     "duration": null,
     "end_time": null,
     "exception": null,
     "start_time": null,
     "status": "pending"
    },
    "tags": []
   },
   "outputs": [],
   "source": [
    "df.query('Status == \"Removed\"')"
   ]
  },
  {
   "cell_type": "code",
   "execution_count": null,
   "id": "d65888d0",
   "metadata": {
    "execution": {
     "iopub.execute_input": "2023-08-20T18:11:20.143071Z",
     "iopub.status.busy": "2023-08-20T18:11:20.142680Z",
     "iopub.status.idle": "2023-08-20T18:11:20.166768Z",
     "shell.execute_reply": "2023-08-20T18:11:20.165537Z",
     "shell.execute_reply.started": "2023-08-20T18:11:20.143041Z"
    },
    "papermill": {
     "duration": null,
     "end_time": null,
     "exception": null,
     "start_time": null,
     "status": "pending"
    },
    "tags": []
   },
   "outputs": [],
   "source": [
    "df.loc[~df.duplicated(subset=['Length','Speed','Status','Model'])] \\\n",
    ".reset_index(drop=True).copy()"
   ]
  },
  {
   "cell_type": "code",
   "execution_count": null,
   "id": "bb9e5dc7",
   "metadata": {
    "execution": {
     "iopub.execute_input": "2023-08-20T18:12:40.987267Z",
     "iopub.status.busy": "2023-08-20T18:12:40.986850Z",
     "iopub.status.idle": "2023-08-20T18:12:40.999201Z",
     "shell.execute_reply": "2023-08-20T18:12:40.998019Z",
     "shell.execute_reply.started": "2023-08-20T18:12:40.987232Z"
    },
    "papermill": {
     "duration": null,
     "end_time": null,
     "exception": null,
     "start_time": null,
     "status": "pending"
    },
    "tags": []
   },
   "outputs": [],
   "source": [
    "~df.duplicated(subset=['Length','Speed','Status','Model'])"
   ]
  },
  {
   "cell_type": "code",
   "execution_count": null,
   "id": "81126ca8",
   "metadata": {
    "execution": {
     "iopub.execute_input": "2023-08-20T18:33:23.411019Z",
     "iopub.status.busy": "2023-08-20T18:33:23.410611Z",
     "iopub.status.idle": "2023-08-20T18:33:23.417830Z",
     "shell.execute_reply": "2023-08-20T18:33:23.416226Z",
     "shell.execute_reply.started": "2023-08-20T18:33:23.410988Z"
    },
    "papermill": {
     "duration": null,
     "end_time": null,
     "exception": null,
     "start_time": null,
     "status": "pending"
    },
    "tags": []
   },
   "outputs": [],
   "source": [
    "df.shape"
   ]
  },
  {
   "cell_type": "code",
   "execution_count": null,
   "id": "165c4972",
   "metadata": {
    "execution": {
     "iopub.execute_input": "2023-08-20T18:35:18.770635Z",
     "iopub.status.busy": "2023-08-20T18:35:18.769816Z",
     "iopub.status.idle": "2023-08-20T18:35:18.790143Z",
     "shell.execute_reply": "2023-08-20T18:35:18.788920Z",
     "shell.execute_reply.started": "2023-08-20T18:35:18.770593Z"
    },
    "papermill": {
     "duration": null,
     "end_time": null,
     "exception": null,
     "start_time": null,
     "status": "pending"
    },
    "tags": []
   },
   "outputs": [],
   "source": [
    "df"
   ]
  },
  {
   "cell_type": "code",
   "execution_count": null,
   "id": "d4fa741d",
   "metadata": {
    "execution": {
     "iopub.execute_input": "2023-08-20T18:36:29.755829Z",
     "iopub.status.busy": "2023-08-20T18:36:29.755403Z",
     "iopub.status.idle": "2023-08-20T18:36:29.766807Z",
     "shell.execute_reply": "2023-08-20T18:36:29.765585Z",
     "shell.execute_reply.started": "2023-08-20T18:36:29.755763Z"
    },
    "papermill": {
     "duration": null,
     "end_time": null,
     "exception": null,
     "start_time": null,
     "status": "pending"
    },
    "tags": []
   },
   "outputs": [],
   "source": [
    "df['Opening Date'].value_counts()"
   ]
  },
  {
   "cell_type": "code",
   "execution_count": null,
   "id": "497e479f",
   "metadata": {
    "execution": {
     "iopub.execute_input": "2023-08-20T18:47:15.231564Z",
     "iopub.status.busy": "2023-08-20T18:47:15.231135Z",
     "iopub.status.idle": "2023-08-20T18:47:15.305457Z",
     "shell.execute_reply": "2023-08-20T18:47:15.304459Z",
     "shell.execute_reply.started": "2023-08-20T18:47:15.231530Z"
    },
    "papermill": {
     "duration": null,
     "end_time": null,
     "exception": null,
     "start_time": null,
     "status": "pending"
    },
    "tags": []
   },
   "outputs": [],
   "source": [
    "new_df = df.dropna()\n",
    "\n",
    "print(new_df.to_string())"
   ]
  },
  {
   "cell_type": "code",
   "execution_count": null,
   "id": "320d13a9",
   "metadata": {
    "execution": {
     "iopub.execute_input": "2023-08-20T18:48:31.491344Z",
     "iopub.status.busy": "2023-08-20T18:48:31.490969Z",
     "iopub.status.idle": "2023-08-20T18:48:31.549248Z",
     "shell.execute_reply": "2023-08-20T18:48:31.548108Z",
     "shell.execute_reply.started": "2023-08-20T18:48:31.491315Z"
    },
    "papermill": {
     "duration": null,
     "end_time": null,
     "exception": null,
     "start_time": null,
     "status": "pending"
    },
    "tags": []
   },
   "outputs": [],
   "source": [
    "df.dropna(inplace = True)\n",
    "\n",
    "print(df.to_string())"
   ]
  },
  {
   "cell_type": "code",
   "execution_count": null,
   "id": "34583658",
   "metadata": {
    "execution": {
     "iopub.execute_input": "2023-08-20T18:53:17.597714Z",
     "iopub.status.busy": "2023-08-20T18:53:17.597341Z",
     "iopub.status.idle": "2023-08-20T18:53:17.603553Z",
     "shell.execute_reply": "2023-08-20T18:53:17.602413Z",
     "shell.execute_reply.started": "2023-08-20T18:53:17.597687Z"
    },
    "papermill": {
     "duration": null,
     "end_time": null,
     "exception": null,
     "start_time": null,
     "status": "pending"
    },
    "tags": []
   },
   "outputs": [],
   "source": [
    "df[\"Length\"].fillna(130, inplace = True)"
   ]
  },
  {
   "cell_type": "code",
   "execution_count": null,
   "id": "9c2bd177",
   "metadata": {
    "execution": {
     "iopub.execute_input": "2023-08-20T18:53:24.009657Z",
     "iopub.status.busy": "2023-08-20T18:53:24.009271Z",
     "iopub.status.idle": "2023-08-20T18:53:24.031948Z",
     "shell.execute_reply": "2023-08-20T18:53:24.030676Z",
     "shell.execute_reply.started": "2023-08-20T18:53:24.009627Z"
    },
    "papermill": {
     "duration": null,
     "end_time": null,
     "exception": null,
     "start_time": null,
     "status": "pending"
    },
    "tags": []
   },
   "outputs": [],
   "source": [
    "df"
   ]
  },
  {
   "cell_type": "code",
   "execution_count": null,
   "id": "3ad5eeb5",
   "metadata": {
    "execution": {
     "iopub.execute_input": "2023-08-20T19:00:38.285087Z",
     "iopub.status.busy": "2023-08-20T19:00:38.284687Z",
     "iopub.status.idle": "2023-08-20T19:00:38.671643Z",
     "shell.execute_reply": "2023-08-20T19:00:38.670180Z",
     "shell.execute_reply.started": "2023-08-20T19:00:38.285058Z"
    },
    "papermill": {
     "duration": null,
     "end_time": null,
     "exception": null,
     "start_time": null,
     "status": "pending"
    },
    "tags": []
   },
   "outputs": [],
   "source": [
    "ax = df['High Restriction'].value_counts() \\\n",
    ".head(10) \\\n",
    ".plot(kind='bar', title=\"Top 10 Coasters Introduced\")\n",
    "ax.set_xlabel('Height Introduced', color='black')\n",
    "ax.set_ylabel('Count', color='black')"
   ]
  },
  {
   "cell_type": "code",
   "execution_count": null,
   "id": "0102d91c",
   "metadata": {
    "execution": {
     "iopub.execute_input": "2023-08-20T19:09:44.767565Z",
     "iopub.status.busy": "2023-08-20T19:09:44.767108Z",
     "iopub.status.idle": "2023-08-20T19:09:44.789578Z",
     "shell.execute_reply": "2023-08-20T19:09:44.788459Z",
     "shell.execute_reply.started": "2023-08-20T19:09:44.767534Z"
    },
    "papermill": {
     "duration": null,
     "end_time": null,
     "exception": null,
     "start_time": null,
     "status": "pending"
    },
    "tags": []
   },
   "outputs": [],
   "source": [
    "zx = df[fcvmvk[;,;;,/m "
   ]
  },
  {
   "cell_type": "code",
   "execution_count": null,
   "id": "a0b93ee1",
   "metadata": {
    "execution": {
     "iopub.execute_input": "2023-08-20T19:24:36.983381Z",
     "iopub.status.busy": "2023-08-20T19:24:36.982883Z",
     "iopub.status.idle": "2023-08-20T19:24:36.991194Z",
     "shell.execute_reply": "2023-08-20T19:24:36.989806Z",
     "shell.execute_reply.started": "2023-08-20T19:24:36.983344Z"
    },
    "papermill": {
     "duration": null,
     "end_time": null,
     "exception": null,
     "start_time": null,
     "status": "pending"
    },
    "tags": []
   },
   "outputs": [],
   "source": [
    "df.shape"
   ]
  },
  {
   "cell_type": "code",
   "execution_count": null,
   "id": "420e562c",
   "metadata": {
    "execution": {
     "iopub.execute_input": "2023-08-20T19:57:27.683027Z",
     "iopub.status.busy": "2023-08-20T19:57:27.682628Z",
     "iopub.status.idle": "2023-08-20T19:57:27.789521Z",
     "shell.execute_reply": "2023-08-20T19:57:27.787857Z",
     "shell.execute_reply.started": "2023-08-20T19:57:27.682997Z"
    },
    "papermill": {
     "duration": null,
     "end_time": null,
     "exception": null,
     "start_time": null,
     "status": "pending"
    },
    "tags": []
   },
   "outputs": [],
   "source": [
    "ax = df['High Restriction'].plot(kind='kde', title='Coaster Speed (mph)')\n",
    "ax.set_xlabel('Height (cm))')"
   ]
  },
  {
   "cell_type": "code",
   "execution_count": null,
   "id": "98a80b72",
   "metadata": {
    "execution": {
     "iopub.execute_input": "2023-08-20T19:58:04.884356Z",
     "iopub.status.busy": "2023-08-20T19:58:04.883979Z",
     "iopub.status.idle": "2023-08-20T19:58:05.236820Z",
     "shell.execute_reply": "2023-08-20T19:58:05.235733Z",
     "shell.execute_reply.started": "2023-08-20T19:58:04.884328Z"
    },
    "papermill": {
     "duration": null,
     "end_time": null,
     "exception": null,
     "start_time": null,
     "status": "pending"
    },
    "tags": []
   },
   "outputs": [],
   "source": [
    "ax = df['High Restriction'].value_counts() \\\n",
    ".head(10) \\\n",
    ".plot(kind='kde', title=\"Top 10 Coasters Introduced\")\n",
    "ax.set_xlabel('Height Introduced', color='black')\n",
    "ax.set_ylabel('Count', color='black')"
   ]
  },
  {
   "cell_type": "code",
   "execution_count": null,
   "id": "d97d488e",
   "metadata": {
    "execution": {
     "iopub.execute_input": "2023-08-20T20:28:27.647495Z",
     "iopub.status.busy": "2023-08-20T20:28:27.647101Z",
     "iopub.status.idle": "2023-08-20T20:28:28.266449Z",
     "shell.execute_reply": "2023-08-20T20:28:28.264785Z",
     "shell.execute_reply.started": "2023-08-20T20:28:27.647466Z"
    },
    "papermill": {
     "duration": null,
     "end_time": null,
     "exception": null,
     "start_time": null,
     "status": "pending"
    },
    "tags": []
   },
   "outputs": [],
   "source": []
  }
 ],
 "metadata": {
  "kernelspec": {
   "display_name": "Python 3",
   "language": "python",
   "name": "python3"
  },
  "language_info": {
   "codemirror_mode": {
    "name": "ipython",
    "version": 3
   },
   "file_extension": ".py",
   "mimetype": "text/x-python",
   "name": "python",
   "nbconvert_exporter": "python",
   "pygments_lexer": "ipython3",
   "version": "3.10.12"
  },
  "papermill": {
   "default_parameters": {},
   "duration": 14.198233,
   "end_time": "2023-08-20T20:30:40.078706",
   "environment_variables": {},
   "exception": true,
   "input_path": "__notebook__.ipynb",
   "output_path": "__notebook__.ipynb",
   "parameters": {},
   "start_time": "2023-08-20T20:30:25.880473",
   "version": "2.4.0"
  }
 },
 "nbformat": 4,
 "nbformat_minor": 5
}
